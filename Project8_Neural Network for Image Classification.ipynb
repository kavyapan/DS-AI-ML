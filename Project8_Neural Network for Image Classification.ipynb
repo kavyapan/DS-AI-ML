{
 "cells": [
  {
   "cell_type": "markdown",
   "metadata": {
    "collapsed": true
   },
   "source": [
    "# Building a Neural Network for Image Classification using Tensorflow for MNIST Fashion Dataset\n",
    "The objective of the project is - to use Fashion-MNIST data set to identify (predict) different fashion products(articles) from the given images using Machine Learning.\n",
    "\n",
    "##### About the Data Set\n",
    "Fashion-MNIST is a dataset of Zalando's article images —consisting of a training set of 60,000 examples and a test set of 10,000 examples. Each example is a 28x28 grayscale image, associated with a label."
   ]
  },
  {
   "cell_type": "markdown",
   "metadata": {},
   "source": [
    "# Importing the Modules"
   ]
  },
  {
   "cell_type": "code",
   "execution_count": 114,
   "metadata": {},
   "outputs": [
    {
     "name": "stdout",
     "output_type": "stream",
     "text": [
      "Tensorflow version 2.6.0\n",
      "Keras version 2.6.0\n"
     ]
    }
   ],
   "source": [
    "import numpy as np\n",
    "import tensorflow as tf\n",
    "print(\"Tensorflow version\", tf.__version__)\n",
    "\n",
    "from tensorflow import keras\n",
    "print(\"Keras version\", keras.__version__)\n",
    "\n",
    "import matplotlib.pyplot as plt\n",
    "import warnings\n",
    "warnings.filterwarnings('ignore')\n",
    "\n",
    "np.random.seed(42)\n",
    "tf.random.set_seed(42)"
   ]
  },
  {
   "cell_type": "markdown",
   "metadata": {},
   "source": [
    "# Loading the Dataset"
   ]
  },
  {
   "cell_type": "code",
   "execution_count": 115,
   "metadata": {},
   "outputs": [],
   "source": [
    "fashion_mnist = keras.datasets.fashion_mnist"
   ]
  },
  {
   "cell_type": "code",
   "execution_count": 116,
   "metadata": {},
   "outputs": [
    {
     "data": {
      "text/plain": [
       "(60000, 28, 28)"
      ]
     },
     "execution_count": 116,
     "metadata": {},
     "output_type": "execute_result"
    }
   ],
   "source": [
    "(X_train_full, y_train_full), (X_test, y_test) = fashion_mnist.load_data()\n",
    "X_train_full.shape"
   ]
  },
  {
   "cell_type": "markdown",
   "metadata": {},
   "source": [
    "# Splitting the Data"
   ]
  },
  {
   "cell_type": "code",
   "execution_count": 117,
   "metadata": {
    "scrolled": true
   },
   "outputs": [
    {
     "name": "stdout",
     "output_type": "stream",
     "text": [
      "Train data shape: (55000, 28, 28)\n",
      "Validation data shape: (5000, 28, 28)\n",
      "Test data shape: (10000, 28, 28)\n"
     ]
    }
   ],
   "source": [
    "X_valid = X_train_full[:5000] / 255.\n",
    "y_valid = y_train_full[:5000]\n",
    "X_train = X_train_full[5000:] / 255.\n",
    "y_train = y_train_full[5000:]\n",
    "X_test = X_test / 255.\n",
    "print(\"Train data shape:\",X_train.shape)\n",
    "print(\"Validation data shape:\",X_valid.shape)\n",
    "print(\"Test data shape:\",X_test.shape)"
   ]
  },
  {
   "cell_type": "markdown",
   "metadata": {},
   "source": [
    "# Visualizing the data"
   ]
  },
  {
   "cell_type": "code",
   "execution_count": 118,
   "metadata": {},
   "outputs": [],
   "source": [
    "class_names = [\"T-shirt/top\", \"Trouser\", \"Pullover\", \"Dress\", \"Coat\",\n",
    "       \"Sandal\", \"Shirt\", \"Sneaker\", \"Bag\", \"Ankle boot\"]"
   ]
  },
  {
   "cell_type": "code",
   "execution_count": 119,
   "metadata": {},
   "outputs": [
    {
     "name": "stdout",
     "output_type": "stream",
     "text": [
      "Class label is: 9\n",
      "Class name is: Dress\n"
     ]
    },
    {
     "data": {
      "image/png": "[encoded data removed]",
      "text/plain": [
       "<Figure size 432x288 with 1 Axes>"
      ]
     },
     "metadata": {
      "needs_background": "light"
     },
     "output_type": "display_data"
    }
   ],
   "source": [
    "print(\"Class label is:\", y_train[3])\n",
    "print(\"Class name is:\", class_names[y_train_full[3]])\n",
    "plt.imshow(X_train_full[3], cmap=\"binary\")\n",
    "plt.axis('off')\n",
    "plt.show()"
   ]
  },
  {
   "cell_type": "markdown",
   "metadata": {},
   "source": [
    "# Building the Model"
   ]
  },
  {
   "cell_type": "code",
   "execution_count": 120,
   "metadata": {},
   "outputs": [],
   "source": [
    "keras.backend.clear_session()"
   ]
  },
  {
   "cell_type": "code",
   "execution_count": 121,
   "metadata": {},
   "outputs": [],
   "source": [
    "model = keras.models.Sequential([\n",
    "    keras.layers.Flatten(input_shape=[28, 28]),\n",
    "    keras.layers.Dense(300, activation=\"relu\"),\n",
    "    keras.layers.Dense(100, activation=\"relu\"),\n",
    "    keras.layers.Dense(10, activation=\"softmax\")\n",
    "])"
   ]
  },
  {
   "cell_type": "code",
   "execution_count": 122,
   "metadata": {},
   "outputs": [
    {
     "data": {
      "text/plain": [
       "[<keras.layers.core.Flatten at 0x7fedd85d8940>,\n",
       " <keras.layers.core.Dense at 0x7fedd85d8e80>,\n",
       " <keras.layers.core.Dense at 0x7fedd85e9048>,\n",
       " <keras.layers.core.Dense at 0x7fedd85e9390>]"
      ]
     },
     "execution_count": 122,
     "metadata": {},
     "output_type": "execute_result"
    }
   ],
   "source": [
    "model.layers"
   ]
  },
  {
   "cell_type": "code",
   "execution_count": 123,
   "metadata": {},
   "outputs": [
    {
     "name": "stdout",
     "output_type": "stream",
     "text": [
      "Model: \"sequential\"\n",
      "_________________________________________________________________\n",
      "Layer (type)                 Output Shape              Param #   \n",
      "=================================================================\n",
      "flatten (Flatten)            (None, 784)               0         \n",
      "_________________________________________________________________\n",
      "dense (Dense)                (None, 300)               235500    \n",
      "_________________________________________________________________\n",
      "dense_1 (Dense)              (None, 100)               30100     \n",
      "_________________________________________________________________\n",
      "dense_2 (Dense)              (None, 10)                1010      \n",
      "=================================================================\n",
      "Total params: 266,610\n",
      "Trainable params: 266,610\n",
      "Non-trainable params: 0\n",
      "_________________________________________________________________\n"
     ]
    }
   ],
   "source": [
    "model.summary()"
   ]
  },
  {
   "cell_type": "code",
   "execution_count": 124,
   "metadata": {},
   "outputs": [
    {
     "data": {
      "image/png": "[encoded data removed]",
      "text/plain": [
       "<IPython.core.display.Image object>"
      ]
     },
     "execution_count": 124,
     "metadata": {},
     "output_type": "execute_result"
    }
   ],
   "source": [
    "keras.utils.plot_model(model, \"my_fashion_mnist_model.png\", show_shapes=True)"
   ]
  },
  {
   "cell_type": "code",
   "execution_count": 125,
   "metadata": {},
   "outputs": [],
   "source": [
    "sgd = keras.optimizers.SGD(learning_rate=0.01)"
   ]
  },
  {
   "cell_type": "code",
   "execution_count": 126,
   "metadata": {},
   "outputs": [],
   "source": [
    "model.compile(loss=\"sparse_categorical_crossentropy\",\n",
    "      optimizer=sgd,\n",
    "      metrics=[\"accuracy\"])"
   ]
  },
  {
   "cell_type": "markdown",
   "metadata": {},
   "source": [
    "# Fitting the Model"
   ]
  },
  {
   "cell_type": "code",
   "execution_count": 127,
   "metadata": {},
   "outputs": [
    {
     "name": "stdout",
     "output_type": "stream",
     "text": [
      "Epoch 1/30\n",
      "1719/1719 [==============================] - 4s 2ms/step - loss: 0.7237 - accuracy: 0.7644 - val_loss: 0.5207 - val_accuracy: 0.8234\n",
      "Epoch 2/30\n",
      "1719/1719 [==============================] - 4s 2ms/step - loss: 0.4843 - accuracy: 0.8318 - val_loss: 0.4349 - val_accuracy: 0.8528\n",
      "Epoch 3/30\n",
      "1719/1719 [==============================] - 4s 3ms/step - loss: 0.4392 - accuracy: 0.8455 - val_loss: 0.5386 - val_accuracy: 0.7966\n",
      "Epoch 4/30\n",
      "1719/1719 [==============================] - 4s 3ms/step - loss: 0.4125 - accuracy: 0.8564 - val_loss: 0.3918 - val_accuracy: 0.8646\n",
      "Epoch 5/30\n",
      "1719/1719 [==============================] - 4s 2ms/step - loss: 0.3941 - accuracy: 0.8619 - val_loss: 0.3753 - val_accuracy: 0.8678\n",
      "Epoch 6/30\n",
      "1719/1719 [==============================] - 4s 3ms/step - loss: 0.3754 - accuracy: 0.8675 - val_loss: 0.3700 - val_accuracy: 0.8720\n",
      "Epoch 7/30\n",
      "1719/1719 [==============================] - 5s 3ms/step - loss: 0.3635 - accuracy: 0.8712 - val_loss: 0.3621 - val_accuracy: 0.8722\n",
      "Epoch 8/30\n",
      "1719/1719 [==============================] - 4s 2ms/step - loss: 0.3521 - accuracy: 0.8752 - val_loss: 0.3846 - val_accuracy: 0.8618\n",
      "Epoch 9/30\n",
      "1719/1719 [==============================] - 4s 2ms/step - loss: 0.3418 - accuracy: 0.8786 - val_loss: 0.3597 - val_accuracy: 0.8700\n",
      "Epoch 10/30\n",
      "1719/1719 [==============================] - 4s 2ms/step - loss: 0.3325 - accuracy: 0.8821 - val_loss: 0.3441 - val_accuracy: 0.8774\n",
      "Epoch 11/30\n",
      "1719/1719 [==============================] - 4s 2ms/step - loss: 0.3244 - accuracy: 0.8834 - val_loss: 0.3443 - val_accuracy: 0.8788\n",
      "Epoch 12/30\n",
      "1719/1719 [==============================] - 4s 2ms/step - loss: 0.3153 - accuracy: 0.8867 - val_loss: 0.3307 - val_accuracy: 0.8818\n",
      "Epoch 13/30\n",
      "1719/1719 [==============================] - 4s 2ms/step - loss: 0.3085 - accuracy: 0.8886 - val_loss: 0.3262 - val_accuracy: 0.8890\n",
      "Epoch 14/30\n",
      "1719/1719 [==============================] - 4s 2ms/step - loss: 0.3025 - accuracy: 0.8913 - val_loss: 0.3414 - val_accuracy: 0.8780\n",
      "Epoch 15/30\n",
      "1719/1719 [==============================] - 4s 2ms/step - loss: 0.2950 - accuracy: 0.8938 - val_loss: 0.3213 - val_accuracy: 0.8844\n",
      "Epoch 16/30\n",
      "1719/1719 [==============================] - 4s 2ms/step - loss: 0.2894 - accuracy: 0.8968 - val_loss: 0.3095 - val_accuracy: 0.8900\n",
      "Epoch 17/30\n",
      "1719/1719 [==============================] - 5s 3ms/step - loss: 0.2843 - accuracy: 0.8976 - val_loss: 0.3570 - val_accuracy: 0.8728\n",
      "Epoch 18/30\n",
      "1719/1719 [==============================] - 4s 2ms/step - loss: 0.2780 - accuracy: 0.8999 - val_loss: 0.3147 - val_accuracy: 0.8880\n",
      "Epoch 19/30\n",
      "1719/1719 [==============================] - 4s 2ms/step - loss: 0.2731 - accuracy: 0.9017 - val_loss: 0.3123 - val_accuracy: 0.8894\n",
      "Epoch 20/30\n",
      "1719/1719 [==============================] - 4s 2ms/step - loss: 0.2678 - accuracy: 0.9033 - val_loss: 0.3272 - val_accuracy: 0.8814\n",
      "Epoch 21/30\n",
      "1719/1719 [==============================] - 5s 3ms/step - loss: 0.2628 - accuracy: 0.9055 - val_loss: 0.3061 - val_accuracy: 0.8916\n",
      "Epoch 22/30\n",
      "1719/1719 [==============================] - 6s 3ms/step - loss: 0.2579 - accuracy: 0.9072 - val_loss: 0.2971 - val_accuracy: 0.8970\n",
      "Epoch 23/30\n",
      "1719/1719 [==============================] - 4s 2ms/step - loss: 0.2538 - accuracy: 0.9081 - val_loss: 0.3000 - val_accuracy: 0.8934\n",
      "Epoch 24/30\n",
      "1719/1719 [==============================] - 4s 3ms/step - loss: 0.2488 - accuracy: 0.9103 - val_loss: 0.3084 - val_accuracy: 0.8878\n",
      "Epoch 25/30\n",
      "1719/1719 [==============================] - 4s 2ms/step - loss: 0.2446 - accuracy: 0.9120 - val_loss: 0.2969 - val_accuracy: 0.8956\n",
      "Epoch 26/30\n",
      "1719/1719 [==============================] - 4s 2ms/step - loss: 0.2407 - accuracy: 0.9136 - val_loss: 0.3062 - val_accuracy: 0.8896\n",
      "Epoch 27/30\n",
      "1719/1719 [==============================] - 5s 3ms/step - loss: 0.2366 - accuracy: 0.9153 - val_loss: 0.3027 - val_accuracy: 0.8956\n",
      "Epoch 28/30\n",
      "1719/1719 [==============================] - 5s 3ms/step - loss: 0.2331 - accuracy: 0.9167 - val_loss: 0.2998 - val_accuracy: 0.8916\n",
      "Epoch 29/30\n",
      "1719/1719 [==============================] - 5s 3ms/step - loss: 0.2286 - accuracy: 0.9182 - val_loss: 0.3055 - val_accuracy: 0.8914\n",
      "Epoch 30/30\n",
      "1719/1719 [==============================] - 5s 3ms/step - loss: 0.2254 - accuracy: 0.9191 - val_loss: 0.3017 - val_accuracy: 0.8942\n"
     ]
    }
   ],
   "source": [
    "history = model.fit(X_train, y_train, epochs=30,\n",
    "            validation_data=(X_valid, y_valid))"
   ]
  },
  {
   "cell_type": "code",
   "execution_count": 128,
   "metadata": {},
   "outputs": [
    {
     "data": {
      "text/plain": [
       "{'verbose': 1, 'epochs': 30, 'steps': 1719}"
      ]
     },
     "execution_count": 128,
     "metadata": {},
     "output_type": "execute_result"
    }
   ],
   "source": [
    "history.params"
   ]
  },
  {
   "cell_type": "code",
   "execution_count": 129,
   "metadata": {},
   "outputs": [
    {
     "name": "stdout",
     "output_type": "stream",
     "text": [
      "dense\n"
     ]
    }
   ],
   "source": [
    "hidden1 = model.layers[1]\n",
    "print(hidden1.name)"
   ]
  },
  {
   "cell_type": "code",
   "execution_count": 130,
   "metadata": {},
   "outputs": [
    {
     "name": "stdout",
     "output_type": "stream",
     "text": [
      "(784, 300) [[ 0.02428285 -0.00886469 -0.02189048 ... -0.0277466   0.03859093\n",
      "  -0.06890567]\n",
      " [ 0.00458167 -0.03111238 -0.0586676  ...  0.0059311  -0.02763377\n",
      "  -0.04164384]\n",
      " [-0.06294356 -0.0692431   0.07103892 ... -0.04246701  0.07121241\n",
      "  -0.07312134]\n",
      " ...\n",
      " [-0.01680814  0.0211033  -0.05389142 ...  0.00072547  0.00047075\n",
      "   0.06282523]\n",
      " [ 0.07304996 -0.0706187   0.07045519 ... -0.00088753 -0.00160943\n",
      "   0.03134048]\n",
      " [-0.06218424  0.01550852 -0.0258508  ... -0.00459032  0.00223509\n",
      "  -0.06747545]]\n",
      "[ 1.84317201e-01  4.19703461e-02 -7.65934819e-04 -1.00130469e-01\n",
      "  1.03672612e-02  9.32470411e-02  5.11804186e-02 -6.01240015e-03\n",
      " -2.29190234e-02  6.83829933e-02 -8.94708373e-03 -1.53277814e-02\n",
      "  9.30579305e-02  2.76974915e-03  1.76828712e-01  9.65783522e-02\n",
      " -3.76166888e-02  7.25023448e-02  1.02750160e-01 -1.30884752e-01\n",
      "  1.18477479e-01  1.43106356e-01  4.91152238e-03  3.58829610e-02\n",
      "  5.57398722e-02  5.30311875e-02 -5.98867889e-03  2.13155016e-01\n",
      "  1.64704740e-01  1.30044837e-02  1.12247996e-01  2.20760750e-03\n",
      "  4.77481335e-02 -3.39223375e-03 -3.15382145e-02  3.90303209e-02\n",
      "  1.38428032e-01 -8.30842257e-02  1.96297765e-01 -6.46527484e-02\n",
      "  4.87617329e-02 -2.26702145e-03  6.99597225e-02  2.09319405e-02\n",
      "  1.07850507e-02 -9.29654688e-02 -1.38289435e-02  6.98100254e-02\n",
      " -2.30937469e-04  1.47665799e-01 -6.47218945e-03  1.74717039e-01\n",
      "  1.20459720e-01 -1.60452984e-02  3.53386141e-02  4.79087345e-02\n",
      "  5.87294400e-02 -2.28932220e-02 -1.68045133e-03 -1.71382003e-03\n",
      "  1.23390712e-01  3.14958729e-02  4.27123196e-02 -3.08797099e-02\n",
      " -9.79208015e-03 -8.89753737e-03  7.03385994e-02 -1.33841829e-02\n",
      " -3.79937887e-03 -9.08370037e-03 -6.72344118e-02  4.74863462e-02\n",
      "  1.19379058e-01  1.62741989e-01  2.51480918e-02  1.11401668e-02\n",
      "  4.17130254e-02  3.16859260e-02  1.13684302e-02  1.21647641e-01\n",
      " -4.62723896e-03  3.31505612e-02  5.01187332e-02  1.34789467e-01\n",
      "  8.53038300e-03  7.03856423e-02  6.25496060e-02  7.89739341e-02\n",
      " -7.09473481e-03  3.92150693e-03  2.97111310e-02  6.32811934e-02\n",
      "  9.93095562e-02 -2.44420115e-02  2.71433704e-02 -7.13321343e-02\n",
      "  1.28923327e-01  5.11089191e-02  4.43541296e-02  1.39971767e-02\n",
      "  7.80239142e-03  1.73324402e-02 -6.66280463e-03 -5.02152294e-02\n",
      " -4.09499519e-02  1.41553581e-01 -1.13379238e-02  1.39194176e-01\n",
      "  2.59993393e-02  1.20572001e-01  1.57882020e-01  8.45511630e-03\n",
      "  2.36031553e-03 -6.71973452e-02  8.49648044e-02  1.58112105e-02\n",
      "  1.23582281e-01  5.64108090e-03 -5.54103516e-02  1.12183943e-01\n",
      " -7.35474229e-02 -1.19066099e-03  3.13698091e-02  6.77917153e-03\n",
      "  2.30625533e-02  3.22080664e-02 -1.41250705e-02  3.19980234e-02\n",
      "  1.29749060e-01 -7.49912784e-02  8.34854171e-02  1.81954615e-02\n",
      " -4.04259525e-02  1.06496453e-01  1.06895342e-01 -3.72555666e-02\n",
      " -1.75932348e-02 -9.48536694e-02  1.32445440e-01 -3.92185561e-02\n",
      " -5.59413284e-02  6.67403191e-02 -6.96125776e-02 -2.77553778e-02\n",
      " -5.39585599e-04 -1.19854072e-02  1.45978164e-02 -4.37007360e-02\n",
      "  5.90772741e-02 -3.53951193e-02  9.41889267e-03 -9.43279359e-03\n",
      "  1.00519359e-01  6.58093840e-02  9.47307646e-02  2.55985465e-02\n",
      " -2.52324715e-02  1.51593566e-01  5.27200513e-02  1.98717024e-02\n",
      "  8.13927874e-02  1.09977469e-01 -4.06728388e-04  1.41113484e-02\n",
      "  2.91021783e-02  6.47219345e-02  3.29000317e-02  4.19594236e-02\n",
      "  6.66963756e-02  1.79565936e-01  1.26455143e-01  3.82057466e-02\n",
      " -4.44227457e-03 -1.76064521e-02  9.54141170e-02  8.30456689e-02\n",
      "  3.70910503e-02  5.39318100e-03  2.12862305e-02 -1.61030283e-03\n",
      "  4.00106348e-02 -5.42895682e-02  6.78248480e-02 -2.70491783e-02\n",
      "  1.27952814e-01 -1.25225941e-02  9.14084539e-03  3.95553969e-02\n",
      "  8.07412192e-02 -7.91073143e-02 -1.10629030e-01  6.83091059e-02\n",
      " -8.67464542e-02  2.67834757e-02  1.01260640e-01  5.58083914e-02\n",
      "  4.29684781e-02 -5.90957794e-03  8.57804343e-02  8.78832936e-02\n",
      "  7.43794441e-02 -4.31523025e-02 -1.15050906e-02  3.81802768e-02\n",
      "  4.56294380e-02  6.96583837e-02 -3.46546285e-02  3.16329040e-02\n",
      " -1.99074596e-01  1.12470075e-01 -1.60449445e-02  1.02617688e-01\n",
      "  1.41699523e-01  1.09465882e-01 -4.97273076e-03  5.07889278e-02\n",
      "  8.27254355e-03  9.98114515e-03 -9.25342962e-02  7.16232136e-02\n",
      "  1.32549763e-01  2.98536383e-02  1.06052682e-01  1.02258089e-03\n",
      "  5.24213389e-02  7.50319064e-02  8.35342146e-03  6.18376881e-02\n",
      "  1.38190649e-02  3.27803902e-02  6.21674471e-02 -2.90112067e-02\n",
      " -6.36624992e-02  1.44308850e-01  2.26447564e-02  4.59021926e-02\n",
      " -1.02569573e-02  5.43368608e-02  6.41038567e-02  4.17369865e-02\n",
      " -1.14361262e-02 -3.80801260e-02  2.07655318e-03  1.42708348e-04\n",
      "  1.60692148e-02  7.79256895e-02  9.54338461e-02 -1.27532398e-02\n",
      "  9.78656411e-02  1.59035444e-01  4.89620157e-02  7.26879537e-02\n",
      "  5.25496304e-02 -3.97005714e-02 -5.93258580e-03  1.69430114e-02\n",
      " -8.75658635e-03  1.62604004e-01  1.33867651e-01  7.30387345e-02\n",
      " -1.73933338e-02 -8.22571758e-03  4.40735109e-02  1.11656347e-02\n",
      "  1.49061531e-03 -5.57071529e-03  7.56053720e-03  1.52060390e-01\n",
      "  1.69681519e-01  1.03261866e-01  2.55046524e-02  2.22781468e-02\n",
      " -1.06503544e-02 -7.65262311e-03  4.73598875e-02  3.12308036e-02\n",
      "  1.39749581e-02  7.43781626e-02 -3.34867537e-02  6.38370737e-02\n",
      " -1.65292958e-03  1.04103489e-02 -3.30814607e-02  1.23333357e-01\n",
      " -1.04090445e-01  5.88082708e-02  7.26522133e-02  4.71275151e-02\n",
      " -1.07038871e-03  3.20689045e-02  1.04761824e-01  1.33739367e-01\n",
      "  1.27219409e-02  1.17237505e-03  1.71101764e-01 -9.33785960e-02\n",
      "  1.88465089e-01  2.61145132e-03  5.73686920e-02  6.91761523e-02]\n"
     ]
    }
   ],
   "source": [
    "weights, biases = hidden1.get_weights() # getting the weights and biases\n",
    "print(weights.shape, weights)\n",
    "print(biases)"
   ]
  },
  {
   "cell_type": "code",
   "execution_count": 131,
   "metadata": {},
   "outputs": [
    {
     "data": {
      "image/png": "[encoded data removed]",
      "text/plain": [
       "<Figure size 576x360 with 1 Axes>"
      ]
     },
     "metadata": {
      "needs_background": "light"
     },
     "output_type": "display_data"
    }
   ],
   "source": [
    "import pandas as pd\n",
    "\n",
    "pd.DataFrame(history.history).plot(figsize=(8, 5))\n",
    "plt.grid(True)\n",
    "plt.gca().set_ylim(0, 1) # setting limits for y-axis\n",
    "plt.show()"
   ]
  },
  {
   "cell_type": "markdown",
   "metadata": {},
   "source": [
    "# Evaluating Model Performance"
   ]
  },
  {
   "cell_type": "code",
   "execution_count": 132,
   "metadata": {},
   "outputs": [
    {
     "name": "stdout",
     "output_type": "stream",
     "text": [
      "313/313 [==============================] - 1s 2ms/step - loss: 0.3359 - accuracy: 0.8824\n"
     ]
    },
    {
     "data": {
      "text/plain": [
       "[0.33594074845314026, 0.8823999762535095]"
      ]
     },
     "execution_count": 132,
     "metadata": {},
     "output_type": "execute_result"
    }
   ],
   "source": [
    "model.evaluate(X_test, y_test)"
   ]
  },
  {
   "cell_type": "code",
   "execution_count": 133,
   "metadata": {},
   "outputs": [
    {
     "name": "stdout",
     "output_type": "stream",
     "text": [
      "[9 2 1]\n",
      "['Ankle boot', 'Pullover', 'Trouser']\n"
     ]
    }
   ],
   "source": [
    "y_pred = np.argmax(model.predict(X_test[:3]), 1)\n",
    "print(y_pred)\n",
    "print([class_names[index] for index in y_pred])"
   ]
  },
  {
   "cell_type": "code",
   "execution_count": 134,
   "metadata": {},
   "outputs": [
    {
     "data": {
      "image/png": "[encoded data removed]",
      "text/plain": [
       "<Figure size 504x216 with 3 Axes>"
      ]
     },
     "metadata": {
      "needs_background": "light"
     },
     "output_type": "display_data"
    }
   ],
   "source": [
    "plt.figure(figsize=(7, 3))\n",
    "\n",
    "for index, image in enumerate(X_test[:3]):\n",
    "    plt.subplot(1, 3, index + 1)\n",
    "    plt.imshow(image, cmap=\"binary\")\n",
    "    plt.axis('off')\n",
    "    plt.title(class_names[y_pred[index]], fontsize=12)\n",
    "plt.subplots_adjust(wspace=0.2, hspace=0.5)\n",
    "\n",
    "plt.show()"
   ]
  }
 ],
 "metadata": {
  "kernelspec": {
   "display_name": "tensorflow2",
   "language": "python",
   "name": "tensorflow2"
  },
  "language_info": {
   "codemirror_mode": {
    "name": "ipython",
    "version": 3
   },
   "file_extension": ".py",
   "mimetype": "text/x-python",
   "name": "python",
   "nbconvert_exporter": "python",
   "pygments_lexer": "ipython3",
   "version": "3.6.8"
  },
  "toc": {
   "base_numbering": 1,
   "nav_menu": {},
   "number_sections": true,
   "sideBar": true,
   "skip_h1_title": false,
   "title_cell": "Table of Contents",
   "title_sidebar": "Contents",
   "toc_cell": false,
   "toc_position": {},
   "toc_section_display": true,
   "toc_window_display": false
  }
 },
 "nbformat": 4,
 "nbformat_minor": 2
}
